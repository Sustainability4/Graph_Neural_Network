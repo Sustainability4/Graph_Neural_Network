{
  "cells": [
    {
      "cell_type": "code",
      "execution_count": 1,
      "metadata": {
        "id": "ckrMTTbBuCs0",
        "outputId": "9d9fa828-e93a-4340-9a98-f100ace9d17a",
        "colab": {
          "base_uri": "https://localhost:8080/"
        }
      },
      "outputs": [
        {
          "output_type": "stream",
          "name": "stdout",
          "text": [
            "Looking in indexes: https://pypi.org/simple, https://us-python.pkg.dev/colab-wheels/public/simple/\n",
            "Collecting snap-stanford\n",
            "  Downloading snap_stanford-6.0.0-cp37-cp37m-manylinux1_x86_64.whl (11.6 MB)\n",
            "\u001b[K     |████████████████████████████████| 11.6 MB 14.6 MB/s \n",
            "\u001b[?25hInstalling collected packages: snap-stanford\n",
            "Successfully installed snap-stanford-6.0.0\n"
          ]
        }
      ],
      "source": [
        "!python -m pip install snap-stanford"
      ]
    },
    {
      "cell_type": "markdown",
      "metadata": {
        "id": "TQf3NPlhuCs5"
      },
      "source": [
        "## Plot Graphs"
      ]
    },
    {
      "cell_type": "code",
      "execution_count": 2,
      "metadata": {
        "id": "MsysoHlAuCs8"
      },
      "outputs": [],
      "source": [
        "def draw_graph(G, pos_nodes, node_names={}, node_size=50, plot_weight=False):\n",
        "    nx.draw(G, pos_nodes, with_labels=False, node_size=node_size, edge_color='gray', arrowsize=30)\n",
        "    \n",
        "    pos_attrs = {}\n",
        "    for node, coords in pos_nodes.items():\n",
        "        pos_attrs[node] = (coords[0], coords[1] + 0.08)\n",
        "        \n",
        "    nx.draw_networkx_labels(G, pos_attrs, font_family='serif', font_size=20)\n",
        "    \n",
        "    \n",
        "    if plot_weight:\n",
        "        pos_attrs = {}\n",
        "        for node, coords in pos_nodes.items():\n",
        "            pos_attrs[node] = (coords[0], coords[1] + 0.08)\n",
        "        \n",
        "        nx.draw_networkx_labels(G, pos_attrs, font_family='serif', font_size=20)\n",
        "        edge_labels=dict([((a,b,),d[\"weight\"]) for a,b,d in G.edges(data=True)])\n",
        "        nx.draw_networkx_edge_labels(G, pos_nodes, edge_labels=edge_labels)\n",
        "    \n",
        "    plt.axis('off')\n",
        "    axis = plt.gca()\n",
        "    axis.set_xlim([1.2*x for x in axis.get_xlim()])\n",
        "    axis.set_ylim([1.2*y for y in axis.get_ylim()])"
      ]
    },
    {
      "cell_type": "markdown",
      "metadata": {
        "id": "OCJfM6BYuCs-"
      },
      "source": [
        "## Undirected Graph"
      ]
    },
    {
      "cell_type": "code",
      "execution_count": 3,
      "metadata": {
        "id": "yjzx11rquCs-",
        "outputId": "8f08ad31-3dd1-45ce-e8d8-f01bd000617f",
        "colab": {
          "base_uri": "https://localhost:8080/",
          "height": 319
        }
      },
      "outputs": [
        {
          "output_type": "display_data",
          "data": {
            "text/plain": [
              "<Figure size 432x288 with 1 Axes>"
            ],
            "image/png": "[encoded data removed]"
          },
          "metadata": {}
        }
      ],
      "source": [
        "import numpy as np\n",
        "import pandas as pd\n",
        "import networkx as nx\n",
        "import matplotlib.pyplot as plt\n",
        "# Creating a graph\n",
        "G = nx.Graph()\n",
        "\n",
        "# Define the vertices \n",
        "V = {'Dublin', 'Paris', 'Milan', 'Rome'}\n",
        "E = [('Milan','Dublin'), ('Milan','Paris'), ('Paris','Dublin'), ('Milan','Rome')]\n",
        "\n",
        "# Add Nodes and Edges\n",
        "G.add_nodes_from(V)\n",
        "G.add_edges_from(E)\n",
        "\n",
        "# Plot Graphs\n",
        "draw_graph(G, pos_nodes=nx.shell_layout(G), node_size=500)"
      ]
    },
    {
      "cell_type": "code",
      "execution_count": 4,
      "metadata": {
        "id": "Zun5cEx8uCtD",
        "outputId": "6a348f83-89a9-41f4-a212-f4dbac5c7823",
        "colab": {
          "base_uri": "https://localhost:8080/"
        }
      },
      "outputs": [
        {
          "output_type": "stream",
          "name": "stdout",
          "text": [
            "V = ['Milan', 'Dublin', 'Rome', 'Paris']\n",
            "E = [('Milan', 'Dublin'), ('Milan', 'Paris'), ('Milan', 'Rome'), ('Dublin', 'Paris')]\n"
          ]
        }
      ],
      "source": [
        "print(f\"V = {G.nodes}\")\n",
        "print(f\"E = {G.edges}\")"
      ]
    },
    {
      "cell_type": "code",
      "execution_count": 5,
      "metadata": {
        "id": "502tLg2xuCtE",
        "outputId": "86f07500-5384-486e-cadf-d1833d954d5a",
        "colab": {
          "base_uri": "https://localhost:8080/"
        }
      },
      "outputs": [
        {
          "output_type": "execute_result",
          "data": {
            "text/plain": [
              "{3: 'Milan', 2: 'Paris', 1: 'Rome'}"
            ]
          },
          "metadata": {},
          "execution_count": 5
        }
      ],
      "source": [
        "# Number of Edges incident to a particular node v\n",
        "{G.degree(v): v for v in G.nodes}"
      ]
    },
    {
      "cell_type": "code",
      "execution_count": 6,
      "metadata": {
        "scrolled": true,
        "id": "siLMmaODuCtG",
        "outputId": "7d3d0f3b-c23e-493e-9fa3-92dd775551e1",
        "colab": {
          "base_uri": "https://localhost:8080/"
        }
      },
      "outputs": [
        {
          "output_type": "stream",
          "name": "stdout",
          "text": [
            "Graph Order: 4\n",
            "Graph Size: 4\n",
            "Degree for nodes: {'Milan': 3, 'Dublin': 2, 'Rome': 1, 'Paris': 2}\n",
            "Neighbors for nodes: {'Milan': ['Dublin', 'Paris', 'Rome'], 'Dublin': ['Milan', 'Paris'], 'Rome': ['Milan'], 'Paris': ['Milan', 'Dublin']}\n"
          ]
        }
      ],
      "source": [
        "print(f\"Graph Order: {G.number_of_nodes()}\")\n",
        "print(f\"Graph Size: {G.number_of_edges()}\")\n",
        "print(f\"Degree for nodes: { {v: G.degree(v) for v in G.nodes} }\")\n",
        "print(f\"Neighbors for nodes: { {v: list(G.neighbors(v)) for v in G.nodes} }\")"
      ]
    },
    {
      "cell_type": "code",
      "execution_count": 7,
      "metadata": {
        "id": "7QETs3yTuCtH",
        "outputId": "e837a16f-b107-4b3c-80b8-5d4182ba79c0",
        "colab": {
          "base_uri": "https://localhost:8080/"
        }
      },
      "outputs": [
        {
          "output_type": "stream",
          "name": "stdout",
          "text": [
            "Nodes: ['Milan', 'Dublin', 'Rome', 'Paris']\n",
            "Edges: [('Milan', 'Dublin'), ('Milan', 'Paris'), ('Milan', 'Rome'), ('Dublin', 'Paris')]\n"
          ]
        }
      ],
      "source": [
        "ego_graph_milan = nx.ego_graph(G, \"Milan\")\n",
        "print(f\"Nodes: {ego_graph_milan.nodes}\")\n",
        "print(f\"Edges: {ego_graph_milan.edges}\")"
      ]
    },
    {
      "cell_type": "code",
      "execution_count": 8,
      "metadata": {
        "id": "AbSFLeS1uCtJ",
        "outputId": "291aefc6-e800-472f-c89e-b3f07389fc0e",
        "colab": {
          "base_uri": "https://localhost:8080/"
        }
      },
      "outputs": [
        {
          "output_type": "stream",
          "name": "stdout",
          "text": [
            "V = ['Milan', 'Dublin', 'Rome', 'Paris', 'Madrid', 'London']\n",
            "E = [('Milan', 'Dublin'), ('Milan', 'Paris'), ('Milan', 'Rome'), ('Dublin', 'Paris'), ('Rome', 'London'), ('Paris', 'Madrid')]\n"
          ]
        }
      ],
      "source": [
        "new_nodes = {'London', 'Madrid'}\n",
        "new_edges = [('London','Rome'), ('Madrid','Paris')]\n",
        "\n",
        "# Add new nodes\n",
        "G.add_nodes_from(new_nodes)\n",
        "G.add_edges_from(new_edges)\n",
        "print(f\"V = {G.nodes}\")\n",
        "print(f\"E = {G.edges}\")"
      ]
    },
    {
      "cell_type": "code",
      "execution_count": 9,
      "metadata": {
        "id": "AYYU2_XjuCtK",
        "outputId": "24a81c85-cd3b-45c5-957a-7f39fd63c10d",
        "colab": {
          "base_uri": "https://localhost:8080/"
        }
      },
      "outputs": [
        {
          "output_type": "stream",
          "name": "stdout",
          "text": [
            "V = ['Milan', 'Dublin', 'Rome', 'Paris']\n",
            "E = [('Milan', 'Dublin'), ('Milan', 'Paris'), ('Milan', 'Rome'), ('Dublin', 'Paris')]\n"
          ]
        }
      ],
      "source": [
        "node_remove = {'London', 'Madrid'}\n",
        "\n",
        "# Remove Nodes \n",
        "G.remove_nodes_from(node_remove)\n",
        "print(f\"V = {G.nodes}\")\n",
        "print(f\"E = {G.edges}\")"
      ]
    },
    {
      "cell_type": "code",
      "execution_count": 10,
      "metadata": {
        "id": "vCkbOqHFuCtL",
        "outputId": "22c5d576-c813-454e-a9b1-1932a15d1f35",
        "colab": {
          "base_uri": "https://localhost:8080/"
        }
      },
      "outputs": [
        {
          "output_type": "stream",
          "name": "stdout",
          "text": [
            "V = ['Milan', 'Dublin', 'Rome', 'Paris']\n",
            "E = [('Milan', 'Rome'), ('Dublin', 'Paris')]\n"
          ]
        }
      ],
      "source": [
        "node_edges = [('Milan','Dublin'), ('Milan','Paris')]\n",
        "\n",
        "# Remove Edges \n",
        "\n",
        "G.remove_edges_from(node_edges)\n",
        "print(f\"V = {G.nodes}\")\n",
        "print(f\"E = {G.edges}\")"
      ]
    },
    {
      "cell_type": "code",
      "execution_count": 11,
      "metadata": {
        "id": "DJDb8tyauCtM",
        "outputId": "a2d9799b-9aa6-4c77-d374-6dd873d92b8d",
        "colab": {
          "base_uri": "https://localhost:8080/"
        }
      },
      "outputs": [
        {
          "output_type": "stream",
          "name": "stdout",
          "text": [
            "[('Milan', 'Rome', {}), ('Dublin', 'Paris', {})]\n"
          ]
        }
      ],
      "source": [
        "print(nx.to_edgelist(G))"
      ]
    },
    {
      "cell_type": "code",
      "execution_count": 12,
      "metadata": {
        "id": "evYYetH7uCtN",
        "outputId": "09545ec4-5bb9-480e-efa4-ed87903a63f2",
        "colab": {
          "base_uri": "https://localhost:8080/"
        }
      },
      "outputs": [
        {
          "output_type": "stream",
          "name": "stdout",
          "text": [
            "        Milan  Dublin  Rome  Paris\n",
            "Milan     0.0     0.0   1.0    0.0\n",
            "Dublin    0.0     0.0   0.0    1.0\n",
            "Rome      1.0     0.0   0.0    0.0\n",
            "Paris     0.0     1.0   0.0    0.0\n"
          ]
        }
      ],
      "source": [
        "print(nx.to_pandas_adjacency(G))"
      ]
    },
    {
      "cell_type": "markdown",
      "metadata": {
        "id": "5sdTgFBGuCtN"
      },
      "source": [
        "## Directed Graph"
      ]
    },
    {
      "cell_type": "code",
      "execution_count": 13,
      "metadata": {
        "id": "KRmVbiRBuCtO",
        "outputId": "61f78f15-5409-4a2e-971a-f3e4891b2903",
        "colab": {
          "base_uri": "https://localhost:8080/"
        }
      },
      "outputs": [
        {
          "output_type": "stream",
          "name": "stdout",
          "text": [
            "  source  target\n",
            "0  Milan  Dublin\n",
            "1  Milan    Rome\n",
            "2  Paris   Milan\n",
            "3  Paris  Dublin\n",
            "        Milan  Dublin  Rome  Paris\n",
            "Milan     0.0     1.0   1.0    0.0\n",
            "Dublin    0.0     0.0   0.0    0.0\n",
            "Rome      0.0     0.0   0.0    0.0\n",
            "Paris     1.0     1.0   0.0    0.0\n"
          ]
        }
      ],
      "source": [
        "import networkx as nx\n",
        "G = nx.DiGraph()\n",
        "V = {'Dublin', 'Paris', 'Milan', 'Rome'}\n",
        "E = [('Milan','Dublin'), ('Paris','Milan'), ('Paris','Dublin'), ('Milan','Rome')]\n",
        "G.add_nodes_from(V)\n",
        "G.add_edges_from(E)\n",
        "print(nx.to_pandas_edgelist(G))\n",
        "print(nx.to_pandas_adjacency(G))"
      ]
    },
    {
      "cell_type": "code",
      "execution_count": 14,
      "metadata": {
        "id": "-MPR1D1quCtP",
        "outputId": "b7892318-6325-48cb-d718-01b83d15b2da",
        "colab": {
          "base_uri": "https://localhost:8080/"
        }
      },
      "outputs": [
        {
          "output_type": "stream",
          "name": "stdout",
          "text": [
            "Indegree for nodes: {'Milan': 1, 'Dublin': 2, 'Rome': 1, 'Paris': 0}\n",
            "Outegree for nodes: {'Milan': 2, 'Dublin': 0, 'Rome': 0, 'Paris': 2}\n"
          ]
        }
      ],
      "source": [
        "print(f\"Indegree for nodes: { {v: G.in_degree(v) for v in G.nodes} }\")\n",
        "print(f\"Outegree for nodes: { {v: G.out_degree(v) for v in G.nodes} }\")"
      ]
    },
    {
      "cell_type": "code",
      "execution_count": 15,
      "metadata": {
        "id": "7G8KEwiPuCtQ",
        "outputId": "58edffb9-c809-4bd2-82c7-f1f7d78926ba",
        "colab": {
          "base_uri": "https://localhost:8080/",
          "height": 319
        }
      },
      "outputs": [
        {
          "output_type": "display_data",
          "data": {
            "text/plain": [
              "<Figure size 432x288 with 1 Axes>"
            ],
            "image/png": "[encoded data removed]"
          },
          "metadata": {}
        }
      ],
      "source": [
        "draw_graph(G, pos_nodes=nx.shell_layout(G), node_size=500)"
      ]
    },
    {
      "cell_type": "markdown",
      "metadata": {
        "id": "gtPLNNBYuCtR"
      },
      "source": [
        "## Weighted Directed Graph"
      ]
    },
    {
      "cell_type": "code",
      "execution_count": 16,
      "metadata": {
        "id": "6w1izNhYuCtR",
        "outputId": "962b158b-b16a-45a3-dba8-5def68cbef7a",
        "colab": {
          "base_uri": "https://localhost:8080/",
          "height": 493
        }
      },
      "outputs": [
        {
          "output_type": "stream",
          "name": "stdout",
          "text": [
            "  source  target  weight\n",
            "0  Milan    Rome       5\n",
            "1  Milan  Dublin      19\n",
            "2  Paris  Dublin      11\n",
            "3  Paris   Milan       8\n",
            "        Milan  Dublin  Rome  Paris\n",
            "Milan     0.0    19.0   5.0    0.0\n",
            "Dublin    0.0     0.0   0.0    0.0\n",
            "Rome      0.0     0.0   0.0    0.0\n",
            "Paris     8.0    11.0   0.0    0.0\n"
          ]
        },
        {
          "output_type": "display_data",
          "data": {
            "text/plain": [
              "<Figure size 432x288 with 1 Axes>"
            ],
            "image/png": "[encoded data removed]"
          },
          "metadata": {}
        }
      ],
      "source": [
        "import networkx as nx\n",
        "G = nx.MultiDiGraph()\n",
        "V = {'Paris', 'Dublin','Milan', 'Rome'}\n",
        "E = [ ('Paris','Dublin', 11), ('Paris','Milan', 8),\n",
        "     ('Milan','Rome', 5),('Milan','Dublin', 19)]\n",
        "G.add_nodes_from(V)\n",
        "G.add_weighted_edges_from(E)\n",
        "draw_graph(G, pos_nodes=nx.shell_layout(G), node_size=500, plot_weight=True)\n",
        "print(nx.to_pandas_edgelist(G))\n",
        "print(nx.to_pandas_adjacency(G))"
      ]
    },
    {
      "cell_type": "markdown",
      "metadata": {
        "id": "zETOAWvCuCtS"
      },
      "source": [
        "## Multi Graph"
      ]
    },
    {
      "cell_type": "code",
      "execution_count": 17,
      "metadata": {
        "id": "MJX38bM0uCtS",
        "outputId": "61374f40-fb78-4abe-bca4-5640b2257a92",
        "colab": {
          "base_uri": "https://localhost:8080/",
          "height": 248
        }
      },
      "outputs": [
        {
          "output_type": "display_data",
          "data": {
            "text/plain": [
              "<Figure size 432x288 with 1 Axes>"
            ],
            "image/png": "[encoded data removed]"
          },
          "metadata": {}
        }
      ],
      "source": [
        "import networkx as nx\n",
        "directed_multi_graph = nx.MultiDiGraph()\n",
        "V = {'Dublin', 'Paris', 'Milan', 'Rome'}\n",
        "E = [('Milan','Dublin'), ('Milan','Dublin'), ('Paris','Milan'), ('Paris','Dublin'), ('Milan','Rome'), ('Milan','Rome')]\n",
        "directed_multi_graph.add_nodes_from(V)\n",
        "directed_multi_graph.add_edges_from(E)\n",
        "\n",
        "# draw_graph(directed_multi_graph, pos_nodes=nx.shell_layout(directed_multi_graph), node_size=500)\n",
        "nx.draw_networkx(directed_multi_graph, with_labels= True)"
      ]
    }
  ],
  "metadata": {
    "kernelspec": {
      "display_name": "Python 3 (ipykernel)",
      "language": "python",
      "name": "python3"
    },
    "language_info": {
      "codemirror_mode": {
        "name": "ipython",
        "version": 3
      },
      "file_extension": ".py",
      "mimetype": "text/x-python",
      "name": "python",
      "nbconvert_exporter": "python",
      "pygments_lexer": "ipython3",
      "version": "3.9.7"
    },
    "colab": {
      "name": "Graphs.ipynb",
      "provenance": []
    }
  },
  "nbformat": 4,
  "nbformat_minor": 0
}